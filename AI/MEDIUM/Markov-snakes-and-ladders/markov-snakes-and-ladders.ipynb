{
 "cells": [
  {
   "cell_type": "code",
   "execution_count": 1,
   "metadata": {
    "collapsed": false
   },
   "outputs": [],
   "source": [
    "#!/usr/bin/python\n",
    "# http://cmdlinetips.com/2011/08/three-ways-to-read-a-text-file-line-by-line-in-python/\n",
    "## Open the file with read only permit\n",
    "f = open('data.txt')\n",
    "\n",
    "## Read the first line \n",
    "no_of_board_configurations = int(f.readline())\n",
    "\n",
    "# Create a list of board_configurations\n",
    "board_configurations = [None] * no_of_board_configurations"
   ]
  },
  {
   "cell_type": "code",
   "execution_count": 2,
   "metadata": {
    "collapsed": false
   },
   "outputs": [
    {
     "name": "stdout",
     "output_type": "stream",
     "text": [
      "[None, None, None]\n"
     ]
    }
   ],
   "source": [
    "print str(board_configurations)"
   ]
  },
  {
   "cell_type": "code",
   "execution_count": 3,
   "metadata": {
    "collapsed": false
   },
   "outputs": [],
   "source": [
    "t = []\n",
    "\n",
    "def read_snakes_or_ladders(text_list):\n",
    "    keys = [None] * len(text_list)\n",
    "    values = [None] * len(text_list)\n",
    "    for ind in range(len(text_list)):\n",
    "        t1 = text_list[ind].split(',')\n",
    "        keys[ind] = float(t1[0])\n",
    "        values[ind] = float(t1[1])\n",
    "    return(dict(zip(keys, values)))\n",
    "\n",
    "for i in range(no_of_board_configurations):\n",
    "    \n",
    "    # Data structure to store board configuration\n",
    "    board_config = {'die_probability': [], 'num_ladder': None, 'num_snakes': None, 'ladders': {}, 'snakes': {}}\n",
    "\n",
    "    # Read the next 4 lines\n",
    "    # Store first line as die probability\n",
    "    board_config['die_probability'] = [float(val) for val in f.readline().split(\",\")]\n",
    "    \n",
    "    # Store next line as number of ladders & number of snakes\n",
    "    t = [int(val) for val in f.readline().split(\",\")]\n",
    "    board_config['num_ladder'] = t[0]\n",
    "    board_config['num_snakes'] = t[1]\n",
    "    \n",
    "    # Store the next line in ladders\n",
    "    board_config['ladders'] = read_snakes_or_ladders(f.readline().split())\n",
    "    \n",
    "    # Store the next line in snakes\n",
    "    board_config['snakes'] = read_snakes_or_ladders(f.readline().split())\n",
    "    \n",
    "    board_configurations[i] = board_config\n"
   ]
  },
  {
   "cell_type": "code",
   "execution_count": 4,
   "metadata": {
    "collapsed": false
   },
   "outputs": [
    {
     "name": "stdout",
     "output_type": "stream",
     "text": [
      "[{'ladders': {32.0: 62.0, 42.0: 68.0, 12.0: 98.0}, 'num_ladder': 3, 'num_snakes': 7, 'die_probability': [0.32, 0.32, 0.12, 0.04, 0.07, 0.13], 'snakes': {97.0: 25.0, 67.0: 17.0, 75.0: 19.0, 79.0: 27.0, 49.0: 47.0, 93.0: 37.0, 95.0: 13.0}}, {'ladders': {32.0: 62.0, 34.0: 60.0, 44.0: 66.0, 2.0: 90.0, 22.0: 58.0}, 'num_ladder': 5, 'num_snakes': 8, 'die_probability': [0.39, 0.05, 0.14, 0.05, 0.12, 0.25], 'snakes': {71.0: 15.0, 75.0: 11.0, 85.0: 7.0, 89.0: 33.0, 57.0: 5.0, 87.0: 13.0, 55.0: 25.0, 63.0: 31.0}}, {'ladders': {8.0: 52.0, 26.0: 42.0, 2.0: 72.0, 6.0: 80.0}, 'num_ladder': 4, 'num_snakes': 9, 'die_probability': [0.54, 0.02, 0.02, 0.01, 0.3, 0.11], 'snakes': {37.0: 29.0, 39.0: 11.0, 43.0: 33.0, 77.0: 21.0, 79.0: 23.0, 81.0: 3.0, 51.0: 19.0, 53.0: 7.0, 59.0: 5.0}}]\n"
     ]
    }
   ],
   "source": [
    "print str(board_configurations)"
   ]
  },
  {
   "cell_type": "code",
   "execution_count": 5,
   "metadata": {
    "collapsed": true
   },
   "outputs": [],
   "source": [
    "## close the file after reading the lines.\n",
    "f.close()"
   ]
  },
  {
   "cell_type": "code",
   "execution_count": 6,
   "metadata": {
    "collapsed": true
   },
   "outputs": [],
   "source": [
    "import random\n",
    "\n",
    "def die_roll(die_range):\n",
    "    roll = random.random()    \n",
    "    val = 0\n",
    "    \n",
    "    if (roll > 0.0) & (roll <= die_range[0]):\n",
    "        val = 1\n",
    "    elif  (roll > die_range[0]) & (roll <= die_range[1]):\n",
    "        val = 2\n",
    "    elif  (roll > die_range[1]) & (roll <= die_range[2]):\n",
    "        val = 3\n",
    "    elif  (roll > die_range[2]) & (roll <= die_range[3]):\n",
    "        val = 4\n",
    "    elif  (roll > die_range[3]) & (roll <= die_range[4]):\n",
    "        val = 5\n",
    "    elif  (roll > die_range[4]) & (roll <= 1):\n",
    "        val = 6\n",
    "    \n",
    "    return(val)"
   ]
  },
  {
   "cell_type": "code",
   "execution_count": 8,
   "metadata": {
    "collapsed": false
   },
   "outputs": [
    {
     "name": "stdout",
     "output_type": "stream",
     "text": [
      "163\n",
      "95\n",
      "159\n"
     ]
    }
   ],
   "source": [
    "no_of_games_to_simulate = 5000\n",
    "roll_threshold = 1000\n",
    "\n",
    "def accumu(lis):\n",
    "    total = 0\n",
    "    for x in lis:\n",
    "        total += x\n",
    "        yield total       \n",
    "\n",
    "for board in board_configurations: # Boards\n",
    "    die_range = list(accumu(board['die_probability'])) \n",
    "    time = []\n",
    "    for sim_no in range(no_of_games_to_simulate): # Games on each board\n",
    "        current_pos = 1\n",
    "        roll_count  = 0\n",
    "        while (roll_count < roll_threshold): # 1 game\n",
    "            # Roll a die\n",
    "            possible_pos = current_pos + die_roll(die_range)\n",
    "            roll_count = roll_count + 1\n",
    "            \n",
    "            if (possible_pos < 100):\n",
    "                new_pos = possible_pos\n",
    "            elif (possible_pos == 100):\n",
    "                time.append(roll_count)\n",
    "                break\n",
    "            elif (possible_pos > 100):\n",
    "                continue           \n",
    "            \n",
    "            # Check where if new pos is ladder or snake\n",
    "            ladder_pos  = board['ladders'].get(new_pos)\n",
    "            if ladder_pos:\n",
    "                new_pos = ladder_pos\n",
    "            else:\n",
    "                snake_pos  = board['snakes'].get(new_pos)\n",
    "                if snake_pos:\n",
    "                    new_pos = snake_pos\n",
    "                \n",
    "            # Update current pos\n",
    "            current_pos = new_pos\n",
    "            if (current_pos == 100):\n",
    "                time.append(roll_count)\n",
    "                break \n",
    "                \n",
    "    print str(int(sum(time) /  len(time)))"
   ]
  },
  {
   "cell_type": "code",
   "execution_count": 245,
   "metadata": {
    "collapsed": false
   },
   "outputs": [
    {
     "name": "stdout",
     "output_type": "stream",
     "text": [
      "62.0\n"
     ]
    }
   ],
   "source": [
    "lader_pos  = board_configurations[0]['ladders'].get(32)\n",
    "if lader_pos:\n",
    "    print str(board_configurations[0]['ladders'].get(32))\n",
    "else:\n",
    "    print \"no ladder\""
   ]
  },
  {
   "cell_type": "code",
   "execution_count": null,
   "metadata": {
    "collapsed": true
   },
   "outputs": [],
   "source": []
  }
 ],
 "metadata": {
  "kernelspec": {
   "display_name": "Python 2",
   "language": "python",
   "name": "python2"
  },
  "language_info": {
   "codemirror_mode": {
    "name": "ipython",
    "version": 2
   },
   "file_extension": ".py",
   "mimetype": "text/x-python",
   "name": "python",
   "nbconvert_exporter": "python",
   "pygments_lexer": "ipython2",
   "version": "2.7.12"
  }
 },
 "nbformat": 4,
 "nbformat_minor": 0
}
