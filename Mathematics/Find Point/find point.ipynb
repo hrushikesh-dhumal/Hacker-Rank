{
 "cells": [
  {
   "cell_type": "markdown",
   "metadata": {},
   "source": [
    "Given two points P and Q, output the symmetric point of point P about Q.\n",
    "\n",
    "Input Format \n",
    "The first line contains an integer  representing the number of testcases \n",
    "Each test case is a line containing four space separated integers  representing the coordinates of  and .\n",
    "\n",
    "Constraints \n",
    " \n",
    "\n",
    "Output Format \n",
    "For each test case output x and y coordinates of the symmetric point (each point in a new line).\n",
    "\n",
    "Sample Input\n",
    "\n",
    "2  \n",
    "0 0 1 1  \n",
    "1 1 2 2  \n",
    "Sample Output\n",
    "\n",
    "2 2  \n",
    "3 3"
   ]
  },
  {
   "cell_type": "code",
   "execution_count": null,
   "metadata": {
    "collapsed": true
   },
   "outputs": [],
   "source": [
    "# Enter your code here. Read input from STDIN. Print output to STDOUT\n",
    "T = int(raw_input())\n",
    "\n",
    "if T<=15:\n",
    "    for i in range(T):\n",
    "        values = [int(val) for val in raw_input().split()]\n",
    "        p_x = values[0]\n",
    "        p_y = values[1]\n",
    "        q_x = values[2]\n",
    "        q_y = values[3]\n",
    "        #print str(p_x) + str(p_y) + str(q_x) + str(q_y)\n",
    "        \n",
    "        s_x = 2*q_x - p_x\n",
    "        s_y = 2*q_y - p_y\n",
    "        \n",
    "        print str(s_x) + \" \" + str(s_y)        "
   ]
  }
 ],
 "metadata": {
  "kernelspec": {
   "display_name": "Python [Root]",
   "language": "python",
   "name": "Python [Root]"
  },
  "language_info": {
   "codemirror_mode": {
    "name": "ipython",
    "version": 2
   },
   "file_extension": ".py",
   "mimetype": "text/x-python",
   "name": "python",
   "nbconvert_exporter": "python",
   "pygments_lexer": "ipython2",
   "version": "2.7.12"
  }
 },
 "nbformat": 4,
 "nbformat_minor": 0
}
