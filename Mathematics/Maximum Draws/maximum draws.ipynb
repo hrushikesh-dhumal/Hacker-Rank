{
 "cells": [
  {
   "cell_type": "markdown",
   "metadata": {},
   "source": [
    "Jim is off to a party and is searching for a matching pair of socks. His drawer is filled with socks, each pair of a different color. In its worst case scenario, how many socks (x) should Jim remove from his drawer until he finds a matching pair?\n",
    "\n",
    "Input Format \n",
    "The first line contains the number of test cases T. \n",
    "Next T lines contains an integer N which indicates the total pairs of socks present in the drawer.\n",
    "\n",
    "Output Format \n",
    "Print the number of Draws (x) Jim makes in the worst case scenario.\n",
    "\n",
    "Constraints \n",
    " \n",
    "\n",
    "Sample Input\n",
    "\n",
    "2\n",
    "1\n",
    "2\n",
    "Sample Output\n",
    "\n",
    "2\n",
    "3\n"
   ]
  },
  {
   "cell_type": "code",
   "execution_count": null,
   "metadata": {
    "collapsed": true
   },
   "outputs": [],
   "source": [
    "# Enter your code here. Read input from STDIN. Print output to STDOUT\n",
    "T = int(raw_input())\n",
    "\n",
    "if T >= 1 & T <= 1000:\n",
    "    for i in range(T):\n",
    "        N = int(raw_input())\n",
    "        \n",
    "        if N > 0 & N < 1000000:\n",
    "            print N+1"
   ]
  }
 ],
 "metadata": {
  "kernelspec": {
   "display_name": "Python [Root]",
   "language": "python",
   "name": "Python [Root]"
  },
  "language_info": {
   "codemirror_mode": {
    "name": "ipython",
    "version": 2
   },
   "file_extension": ".py",
   "mimetype": "text/x-python",
   "name": "python",
   "nbconvert_exporter": "python",
   "pygments_lexer": "ipython2",
   "version": "2.7.12"
  }
 },
 "nbformat": 4,
 "nbformat_minor": 0
}
